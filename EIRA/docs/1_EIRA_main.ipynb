{
 "cells": [
  {
   "cell_type": "markdown",
   "metadata": {},
   "source": [
    "# EIRA overview"
   ]
  },
  {
   "cell_type": "markdown",
   "metadata": {},
   "source": [
    "### @Authors, last update july 2024\n",
    "- Jose Antonio Leon\n",
    "- Luc Marius Jacques Bonnafous\n",
    "- Natalia Romero\n"
   ]
  },
  {
   "cell_type": "markdown",
   "metadata": {},
   "source": [
    "## Introduction\n",
    "\n",
    "### What is EIRA?\n",
    "\n",
    "EIRA v1.0 is a tools created by GFDRR of the World Bank to carry out risk assessment of energy infraestructure and population. It provides a framework for users to combine exposure, hazard and vulnerability and to calculate/estimate several risk indicators and metric of the risk in the energy sector. EIRA also allows for review and extract damage and losses data regarding to energy sector, based on historical databases available worldwide.\n",
    "\n",
    "EIRI can works and analizes the impact of several hazards, population and economic exposure maily related to the energy sector. EIRA can provide thier own data for part of all the risk analysis. The hazards than can be analized with EIRA are listed in [EIRA features](#eira-features) section below. \n",
    "\n",
    "The current version EIRA v1.0 is not able to run probabilistic risk analysis, however, the structure of the programming was designed to introduce those new capabilities in future version of the tool (EIRA v2.0).  \n",
    "\n",
    "EIRA v1.0 provides several classes, methods and data for exposure, hazard and vuleranbility risk analysis.  Please see [EIRA Classes](#eira-classes) \n",
    "\n",
    ". Additional classes and data for common uses, such as economic exposures or tropical storms and tutorials for every class are available: see the [CLIMADA features](#CLIMADA-features) section below.\n",
    "\n",
    "\n",
    "### This tutorial\n",
    "\n",
    "This tutorial go through a complete EIRA v1.0 analysis to give an idea of how the model works, and it was thought for new users who have to get a hight level understanding of the capabilities of the tool. Other tutorials go into more detail about different model components and individual hazards.\n",
    "\n",
    "### Resources beyond this tutorial\n",
    "\n",
    "- [EIRA GitHub repository](https://github.com/JALeonTorres/EIRA_tool) - for World Bank users of EIRA\n",
    "\n",
    "#Not still updated\n",
    "\n",
    "#- [Installation guide](../guide/install.rst) - go here if you've not installed the model yet\n",
    "#- [CLIMADA Read the Docs home page](https://climada-python.readthedocs.io) - for all other documentation\n",
    "#- [List of CLIMADA's features and associated tutorials](#CLIMADA-features)\n",
    "#- [CLIMADA GitHub develop branch documentation](https://github.com/CLIMADA-project/climada_python/tree/develop/doc) for the very latest versions of code and documentation\n"
   ]
  },
  {
   "cell_type": "markdown",
   "metadata": {},
   "source": [
    "## EIRA Features"
   ]
  },
  {
   "cell_type": "markdown",
   "metadata": {},
   "source": [
    "## EIRA Classes"
   ]
  },
  {
   "cell_type": "markdown",
   "metadata": {},
   "source": [
    "## Tutorial: an example of risk assessment using EIRA\n",
    "\n",
    "This example will work through a risk assessment for floods in San Salvador, constructing hazard, exposure and vulnerability and ovelaping them to compute certain indicator of risk. Everything you need for this is included in the main EIRA installation and additional data will be downloaded by the scripts as required."
   ]
  },
  {
   "cell_type": "markdown",
   "metadata": {},
   "source": [
    "## Hazards\n",
    "\n",
    "Hazards are characterized by their frequency of occurrence and the geographical distribution of their intensity. The `Hazard` class collects events of the same hazard type (e.g. tropical cyclone, flood, drought, ...) with intensity values over the same geographic centroids. They might be historical events or synthetic."
   ]
  },
  {
   "cell_type": "code",
   "execution_count": 2,
   "metadata": {},
   "outputs": [],
   "source": [
    "# EIRA overview"
   ]
  }
 ],
 "metadata": {
  "kernelspec": {
   "display_name": "Python 3",
   "language": "python",
   "name": "python3"
  },
  "language_info": {
   "codemirror_mode": {
    "name": "ipython",
    "version": 3
   },
   "file_extension": ".py",
   "mimetype": "text/x-python",
   "name": "python",
   "nbconvert_exporter": "python",
   "pygments_lexer": "ipython3",
   "version": "3.12.4"
  }
 },
 "nbformat": 4,
 "nbformat_minor": 2
}
