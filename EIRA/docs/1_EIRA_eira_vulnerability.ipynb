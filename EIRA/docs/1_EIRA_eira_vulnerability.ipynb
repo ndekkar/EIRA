{
 "cells": [
  {
   "cell_type": "markdown",
   "metadata": {},
   "source": [
    "# EIRA: Hazard class"
   ]
  },
  {
   "cell_type": "markdown",
   "metadata": {},
   "source": [
    "### @Authors, last update july 2024\n",
    "- Jose Antonio Leon\n",
    "- Luc Marius Jacques Bonnafous\n",
    "- Natalia Romero\n"
   ]
  },
  {
   "cell_type": "markdown",
   "metadata": {},
   "source": [
    "#### What is a hazard?\n",
    "A hazard describes disaster or catastrophic events such as earthquakes, storms, floods, droughts, heat waves.\n",
    "\n",
    "The hazard in EIRA can be described using diffent options:\n",
    "- in terms of the return period and a physical intensity field \n",
    "- in terms of the frequency of ocurrence and physical instensity field\n",
    "- in terms of the probability of occurrence and physical instensity field\n",
    "\n",
    "<br>\n",
    "\n",
    "#### What do hazards look like in EIRA?\n",
    "\n",
    "Decripcion of hazards `Hazard` \n",
    "\n",
    "| Mandatory variables &nbsp;&nbsp;&nbsp;&nbsp;&nbsp;&nbsp;&nbsp;&nbsp;&nbsp;&nbsp;&nbsp;&nbsp;| Data Type &nbsp;&nbsp;&nbsp;&nbsp;&nbsp;&nbsp;&nbsp;&nbsp;&nbsp;&nbsp;&nbsp;&nbsp;&nbsp;&nbsp;&nbsp;&nbsp;&nbsp;&nbsp;&nbsp;&nbsp;&nbsp;&nbsp;&nbsp;&nbsp;&nbsp;&nbsp;&nbsp;&nbsp;&nbsp;&nbsp;&nbsp;&nbsp;&nbsp;&nbsp;&nbsp;| Description &nbsp;&nbsp;&nbsp;&nbsp;&nbsp;&nbsp;&nbsp;&nbsp;&nbsp;&nbsp;&nbsp;&nbsp;&nbsp;&nbsp; &nbsp;&nbsp;&nbsp;&nbsp;&nbsp;&nbsp;&nbsp;&nbsp;&nbsp;&nbsp;&nbsp;&nbsp;&nbsp;&nbsp;&nbsp;&nbsp;&nbsp;&nbsp;&nbsp;&nbsp;&nbsp;&nbsp;&nbsp;&nbsp;|\n",
    "| :- | :- | :- |\n",
    "| units |(str)| units of the intensity|\n",
    "| centroids |`Centroids()`| centroids of the events|\n",
    "| event_id |(np.array)| id (>0) of each event|\n",
    "| frequency |(np.array)| frequency of each event in years|\n",
    "| intensity |(sparse.csr_matrix)| intensity of the events at centroids|\n",
    "| fraction |(sparse.csr_matrix)| fraction of affected exposures for each event at each centroid|\n",
    "\n",
    "<br>\n",
    "<br>\n",
    "\n",
    "| Descriptive variables | Data Type | Description|\n",
    "| :- | :- | :- |\n",
    "| date |(np.array)| integer date corresponding to the proleptic Gregorian ordinal, where January 1 of year 1 has<br> ordinal 1 (ordinal format of datetime library)|\n",
    "| orig |(np.array)| flags indicating historical events (True) or probabilistic (False) |\n",
    "| event_name |(list(str))| name of each event (default: event_id)|\n",
    "<br>\n",
    "\n",
    "Note that `intensity` and `fraction` are scipy.sparse matrices of size num_events x num_centroids. The `fraction` attribute is optional. The `Centroids` class contains the geographical coordinates where the hazard is defined. A `Centroids` instance provides the coordinates either as points or raster data together with their Coordinate Reference System (CRS). The default CRS used in climada is the usual EPSG:4326. `Centroids` provides moreover methods to compute centroids areas, on land mask, country iso mask or distance to coast"
   ]
  },
  {
   "cell_type": "markdown",
   "metadata": {},
   "source": [
    "## EIRA Features"
   ]
  },
  {
   "cell_type": "markdown",
   "metadata": {},
   "source": [
    "## EIRA Classes"
   ]
  },
  {
   "cell_type": "markdown",
   "metadata": {},
   "source": [
    "## Tutorial: an example of risk assessment using EIRA\n",
    "\n",
    "This example will work through a risk assessment for floods in San Salvador, constructing hazard, exposure and vulnerability and ovelaping them to compute certain indicator of risk. Everything you need for this is included in the main EIRA installation and additional data will be downloaded by the scripts as required."
   ]
  },
  {
   "cell_type": "markdown",
   "metadata": {},
   "source": [
    "## Hazards\n",
    "\n",
    "Hazards are characterized by their frequency of occurrence and the geographical distribution of their intensity. The `Hazard` class collects events of the same hazard type (e.g. tropical cyclone, flood, drought, ...) with intensity values over the same geographic centroids. They might be historical events or synthetic."
   ]
  },
  {
   "cell_type": "markdown",
   "metadata": {},
   "source": [
    "### Import libraries"
   ]
  },
  {
   "cell_type": "code",
   "execution_count": 1,
   "metadata": {},
   "outputs": [],
   "source": [
    "# import libraries\n",
    "import json                        \n",
    "\n",
    "import os                                    #this code is very important  \n",
    "import sys                                   #this line is very important  \n",
    "sys.path.append(os.path.join( '..'))         #this line is very important to call the other modules as a package and use the import option. You need the other two line above.\n",
    "\n",
    "from eira import EIRA_GIS_tools\n",
    "from eira import EIRA_NotebookUserInter\n",
    "from eira import EIRA_files_handler\n",
    "import rasterio\n",
    "\n",
    "import ipywidgets as widgets\n",
    "from IPython.display import display\n",
    "import pandas as pd\n"
   ]
  },
  {
   "cell_type": "markdown",
   "metadata": {},
   "source": [
    "### Select the country of analysis"
   ]
  },
  {
   "cell_type": "code",
   "execution_count": null,
   "metadata": {},
   "outputs": [],
   "source": [
    "root_folder_path = os.path.abspath('Auxname.txt') \n",
    "print(root_folder_path)\n",
    "country_list_path = '/root/WB/EIRA_tool/EIRA/eira/input_data/List_of_Countries_database.csv'\n",
    "\n",
    "dropdown = EIRA_NotebookUserInter.create_dropdown(country_list_path,\"NAME_LONG\", ';')\n",
    "EIRA_NotebookUserInter.check_if_selection_changed(dropdown, 'Country selected: ')"
   ]
  },
  {
   "cell_type": "markdown",
   "metadata": {},
   "source": [
    "### Files to read"
   ]
  },
  {
   "cell_type": "code",
   "execution_count": null,
   "metadata": {},
   "outputs": [],
   "source": [
    "# Get the path of the root folder\n",
    "root_folder_path = os.path.abspath('Auxname.txt')   #this is a code to get the direction of the root folder: Auxname is jus an auxiliar\n",
    "\n",
    "# Raster file path\n",
    "#raster_file_path = '/root/WB/EIRA_tool/EIRA/eira/input_data/pc_h2glob_ELS.tif'\n",
    "#raster_file_path = '/root/WB/EIRA_tool/EIRA/eira/input_data/global_pc_h2globGuatemalaElSalvador.tif'\n",
    "raster_file_path = '/root/WB/EIRA_tool/EIRA/eira/input_data/global_pc_h2globCentralAmerica.tif'\n",
    "\n",
    "grd_file_path = '/root/WB/EIRA_tool/EIRA/eira/input_data/Earthquakes/Seismic hazard_PGA_RT475years.grd'\n",
    "\n",
    "outputdir = '/root/WB/EIRA_tool/EIRA/eira/output_data/test1.tif'\n",
    "\n",
    "# Shape file path\n",
    "shape_file_path = '/root/WB/EIRA_tool/EIRA/eira/input_data/Country_adm_boundaries/gadm36_SLV_shp/gadm36_SLV_0.shp'\n",
    "#shape_file_path = '/root/WB/EIRA_tool/EIRA/eira/input_data/Country_adm_boundaries/gadm41_SLV.gpkg'\n",
    "#shape_file_path = '/root/WB/EIRA_tool/EIRA/eira/input_data/Country_adm_boundaries/world-administrative-boundariesOpendatasoft/world-administrative-boundaries.shp'\n",
    "#shape_file_path = '/root/WB/EIRA_tool/EIRA/eira/input_data/Country_adm_boundaries/MapWord/MapWord_admin_0.shp'\n",
    "\n",
    "ra = EIRA_GIS_tools.read_raster_file(raster_file_path)\n",
    "EIRA_GIS_tools.plot_raster_in_memory(ra)\n",
    "\n",
    "ra2 = EIRA_GIS_tools.read_gdr_file(grd_file_path)\n",
    "EIRA_GIS_tools.plot_raster_in_memory(ra2)\n",
    "\n",
    "gdf = EIRA_GIS_tools.read_and_reproject_vector_file(shape_file_path)\n",
    "EIRA_GIS_tools.plot_vectorGIS_in_memory(gdf)\n",
    "\n",
    "#aster = EIRA_GIS_tools.read_and_reproject_raster_file(grd_file_path)\n",
    "raster = EIRA_GIS_tools.read_and_reproject_grd_file(grd_file_path)\n",
    "EIRA_GIS_tools.plot_raster_in_memory(raster)\n",
    "\n",
    "#raster2, metadaraster2 = EIRA_GIS_tools.extract_raster_by_vectorGISfile_mask(ra2,gdf,outputdir)   \n",
    "raster3= EIRA_GIS_tools.extract_raster_by_vectorGISfile_mask(ra2,gdf)\n",
    "EIRA_GIS_tools.plot_raster_in_memory(raster3)\n",
    "\n",
    "#EIRA_GIS_tools.plot_raster_and_shapefile(raster,metadaraster2,gdf)\n",
    "EIRA_GIS_tools.plot_raster_and_shapefile(raster3,gdf)"
   ]
  },
  {
   "cell_type": "code",
   "execution_count": null,
   "metadata": {},
   "outputs": [],
   "source": [
    "# Shape file path\n",
    "shape_file_path1 = '/root/WB/EIRA_tool/EIRA/eira/input_data/Exposure/ExpoPuentesELS.shp'\n",
    "shape_file_path2 = '/root/WB/EIRA_tool/EIRA/eira/input_data/Exposure/ExtractionlayerELS.shp'\n",
    "\n",
    "gdf1 = EIRA_GIS_tools.read_vectorGIS_file(shape_file_path1)\n",
    "gdf2=EIRA_GIS_tools.read_vectorGIS_file(shape_file_path2)\n",
    "\n",
    "EIRA_GIS_tools.plot_vectorGIS_in_memory(gdf1)\n",
    "EIRA_GIS_tools.plot_vectorGIS_in_memory(gdf2)\n",
    "\n",
    "extracteshape = EIRA_GIS_tools.extract_vectorGIS_by_vectorGISfile_mask(gdf1,gdf2)\n",
    "\n",
    "listofgdf = [gdf2,extracteshape]\n",
    "EIRA_GIS_tools.plot_geodataframes(listofgdf)\n",
    "\n",
    "#shape_file_path = '/root/WB/EIRA_tool/EIRA/eira/input_data/Country_adm_boundaries/gadm41_SLV.gpkg'"
   ]
  },
  {
   "cell_type": "code",
   "execution_count": 2,
   "metadata": {},
   "outputs": [
    {
     "name": "stdout",
     "output_type": "stream",
     "text": [
      "https://www.ncei.noaa.gov/data/international-best-track-archive-for-climate-stewardship-ibtracs/v04r00/access/netcdf//IBTrACS.ALL.v04r00.nc\n"
     ]
    },
    {
     "data": {
      "text/plain": [
       "'/root/WB/EIRA_tool/EIRA/eira/output_data/pc_h2glob_ELS.tif'"
      ]
     },
     "execution_count": 2,
     "metadata": {},
     "output_type": "execute_result"
    }
   ],
   "source": [
    "# Download a file in internet\n",
    "IBTRACS_URL = ('https://www.ncei.noaa.gov/data/international-best-track-archive-for-climate-stewardship-ibtracs/v04r00/access/netcdf/')\n",
    "IBTRACS_FILE = 'IBTrACS.ALL.v04r00.nc'\n",
    "urlJALT = (f'{IBTRACS_URL}/{IBTRACS_FILE}')\n",
    "print (urlJALT)\n",
    "folderpath = '/root/WB/EIRA_tool/EIRA/eira/output_data'\n",
    "urlJALT= 'https://onedrive.live.com/download?resid=23323221D505E66D%2183100&authkey=%21AP1zlT6wiXzI8C0&'\n",
    "#EIRA_files_handler.download_file(urlJALT,forderpath)\n",
    "urlJALT = ' https://onedrive.live.com/download?resid=23323221D505E66D%2183100&authkey=%21AP1zlT6wiXzI8C0&'\n",
    "EIRA_files_handler.download_onedrive_file(urlJALT,'pc_h2glob_ELS.tif',folderpath)\n",
    "\n",
    "#EIRA_files_handler.download_onedrive_file(urlJALT,forderpath)\n",
    "urlJALT ='https://onedrive.live.com/download?resid=23323221D505E66D!84295&authkey=!AKUqSpH2oIhnt_E'\n",
    "EIRA_files_handler.download_onedrive_file(urlJALT,'Seismic hazard_PGA_RT475years.grd',forderpath)\n"
   ]
  }
 ],
 "metadata": {
  "kernelspec": {
   "display_name": "EIRA_env_v1",
   "language": "python",
   "name": "python3"
  },
  "language_info": {
   "codemirror_mode": {
    "name": "ipython",
    "version": 3
   },
   "file_extension": ".py",
   "mimetype": "text/x-python",
   "name": "python",
   "nbconvert_exporter": "python",
   "pygments_lexer": "ipython3",
   "version": "3.12.4"
  }
 },
 "nbformat": 4,
 "nbformat_minor": 2
}
